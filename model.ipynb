{
 "cells": [
  {
   "cell_type": "code",
   "execution_count": null,
   "source": [
    "import pandas as pd\n",
    "import numpy as np\n",
    "import json\n",
    "import re\n",
    "import matplotlib.pyplot as plt\n",
    "\n",
    "from sklearn.ensemble import RandomForestClassifier\n",
    "from sklearn.pipeline import make_pipeline, Pipeline\n",
    "from sklearn.metrics import plot_confusion_matrix, classification_report, accuracy_score, confusion_matrix\n",
    "from sklearn.metrics import precision_recall_fscore_support as score\n",
    "from sklearn.model_selection import train_test_split\n",
    "from sklearn.model_selection import RandomizedSearchCV"
   ],
   "outputs": [],
   "metadata": {}
  },
  {
   "cell_type": "code",
   "execution_count": null,
   "source": [
    "# Load first file\n",
    "df = pd.read_csv('Kickstarter.csv')"
   ],
   "outputs": [],
   "metadata": {}
  },
  {
   "cell_type": "code",
   "execution_count": null,
   "source": [
    "# Loop through 8 files and concat to original DF\n",
    "for i in range(8):\n",
    "  df_ = pd.read_csv(f'Kickstarter00{i+1}.csv')\n",
    "  df = pd.concat([df, df_])"
   ],
   "outputs": [],
   "metadata": {}
  },
  {
   "cell_type": "code",
   "execution_count": null,
   "source": [
    "def clean_data(df):\n",
    "\n",
    "  # Removing duplicate entries then set 'id' as index\n",
    "  df.drop_duplicates(subset='id', inplace=True)\n",
    "  df.set_index('id', inplace=True)\n",
    "\n",
    "  # Drop columns with 99% null values\n",
    "  df.drop(columns=['friends', 'is_backing', 'is_starred', 'permissions'], inplace=True)\n",
    "\n",
    "  # Drop rows where state is not 'successful' or 'failed'.  We are looking at binary outcomes\n",
    "  df = df[(df['state'] == 'successful')|(df['state'] == 'failed')]\n",
    "\n",
    "  # Dropping high cardinality, redundant, and uninteresting columns\n",
    "  df = df.drop(columns=['country_displayable_name', 'creator', 'currency_symbol', 'name', 'photo', 'profile', 'source_url', 'urls', 'usd_type'])\n",
    "\n",
    "  # Dropping columns with only 1 unique value\n",
    "  df = df.drop(columns=['disable_communication', 'is_starrable'])\n",
    "\n",
    "  # Dropping leaky columns and currency exchange columns\n",
    "  df = df.drop(columns=['converted_pledged_amount', 'currency', 'currency_trailing_code', 'current_currency', 'fx_rate', 'pledged', 'static_usd_rate', 'usd_exchange_rate', 'usd_pledged'])\n",
    "\n",
    "  # Creating 'campaign_length' feature\n",
    "  df['campaign_length'] = df['deadline'] - df['launched_at']\n",
    "\n",
    "  # Dropping columns which can't be tinkered by user\n",
    "  df.drop(columns=['country', 'created_at', 'deadline', 'launched_at', 'state_changed_at', 'spotlight', 'location', 'slug', 'backers_count'], inplace=True)\n",
    "\n",
    "  # Pull the category names out and store in a list\n",
    "  dict_list = []\n",
    "  for entry in df['category']:\n",
    "    category = json.loads(entry)\n",
    "    dict_list.append(category['name'])\n",
    "\n",
    "  # Create new category column with just the category and not dictionaries\n",
    "  df['cat'] = dict_list\n",
    "\n",
    "  # Drop old category\n",
    "  df.drop(columns='category', inplace=True)\n",
    "\n",
    "  # Create 'word_count' feature\n",
    "  description_lengths = [len(description.split()) for description in df['blurb']]\n",
    "  df['word_count'] = description_lengths\n",
    "\n",
    "  # Make 'staff_pick' column integers\n",
    "  df['staff_pick'] = df['staff_pick'].astype('int64')\n",
    "\n",
    "  # Re-order columns\n",
    "  df = df[['blurb', 'cat', 'word_count', 'campaign_length', 'goal', 'staff_pick', 'state']]\n",
    "  \n",
    "  return df"
   ],
   "outputs": [],
   "metadata": {}
  },
  {
   "cell_type": "code",
   "execution_count": null,
   "source": [
    "# Cleaning our dataframe\n",
    "df = clean_data(df)"
   ],
   "outputs": [],
   "metadata": {}
  },
  {
   "cell_type": "code",
   "execution_count": null,
   "source": [
    "# Encoding 'catgories'\n",
    "cat_dict = {}\n",
    "for i, cat in enumerate(df['cat'].unique()):\n",
    "    cat_dict[cat] = i\n",
    "\n",
    "df['cat'] = df['cat'].map(cat_dict)"
   ],
   "outputs": [],
   "metadata": {}
  },
  {
   "cell_type": "code",
   "execution_count": null,
   "source": [
    "# Pull out target variable\n",
    "y = df['state']"
   ],
   "outputs": [],
   "metadata": {}
  },
  {
   "cell_type": "code",
   "execution_count": null,
   "source": [
    "# Establish baseline accuracy of 66.5% 'successful'\n",
    "baseline_accuracy = y.value_counts(normalize=True)[0]\n",
    "print('Baseline Accuracy:', baseline_accuracy)"
   ],
   "outputs": [],
   "metadata": {}
  },
  {
   "cell_type": "code",
   "execution_count": null,
   "source": [
    "# Convert target variable to numeric labels\n",
    "y = y.map({'successful': 1, 'failed': 0})"
   ],
   "outputs": [],
   "metadata": {}
  },
  {
   "cell_type": "code",
   "execution_count": null,
   "source": [
    "# Creating Feature Matrix by dropping target variable\n",
    "X = df.drop(columns='state')"
   ],
   "outputs": [],
   "metadata": {}
  },
  {
   "cell_type": "code",
   "execution_count": null,
   "source": [
    "### BUILD RF MODEL\n",
    "\n",
    "# dropping text blurb for RF model\n",
    "X_rf = X.drop(columns=['blurb'])"
   ],
   "outputs": [],
   "metadata": {}
  },
  {
   "cell_type": "code",
   "execution_count": null,
   "source": [
    "# split data\n",
    "X_train, X_test, y_train, y_test = train_test_split(X_rf, y, test_size=0.2, random_state=42)"
   ],
   "outputs": [],
   "metadata": {}
  },
  {
   "cell_type": "code",
   "execution_count": null,
   "source": [
    "# Instantiate RF model with parameters already tuned\n",
    "model = RandomForestClassifier(\n",
    "          random_state=42,\n",
    "          n_estimators=140,\n",
    "          class_weight={0:0.335, 1:0.665},\n",
    "          max_depth=20,\n",
    "          max_features=5,\n",
    "          min_samples_leaf=5,\n",
    "          min_samples_split=7\n",
    ")"
   ],
   "outputs": [],
   "metadata": {}
  },
  {
   "cell_type": "code",
   "execution_count": null,
   "source": [
    "# Fit model to training data\n",
    "model.fit(X_train, y_train)"
   ],
   "outputs": [],
   "metadata": {}
  },
  {
   "cell_type": "code",
   "execution_count": null,
   "source": [
    "# Plot confusion matrix\n",
    "plot_confusion_matrix(model, X_test, y_test, values_format = '.0f', display_labels=['failure','success'])"
   ],
   "outputs": [],
   "metadata": {}
  },
  {
   "cell_type": "code",
   "execution_count": null,
   "source": [
    "# Print classification report\n",
    "print(classification_report(y_test, model.predict(X_test), target_names = ['failure','success']))"
   ],
   "outputs": [],
   "metadata": {}
  },
  {
   "cell_type": "code",
   "execution_count": null,
   "source": [
    "# Display feature importances\n",
    "importances = model.feature_importances_\n",
    "features = X_train.columns\n",
    "pd.Series(importances, index=features).sort_values().tail(10).plot(kind='barh')"
   ],
   "outputs": [],
   "metadata": {}
  }
 ],
 "metadata": {
  "orig_nbformat": 4,
  "language_info": {
   "name": "python"
  }
 },
 "nbformat": 4,
 "nbformat_minor": 2
}